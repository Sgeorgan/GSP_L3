{
 "cells": [
  {
   "cell_type": "markdown",
   "id": "dea1c68c-ba0d-446e-8208-b07bec905678",
   "metadata": {},
   "source": [
    "### Spatial join"
   ]
  },
  {
   "cell_type": "markdown",
   "id": "979d294f-cae1-4c97-ab67-dcae75867181",
   "metadata": {},
   "source": [
    "Spatial joins are operations that combine data from two or more spatial data sets based on their geometric relationship. In the previous sections, we got to know two specific cases of spatial joins: Point-in-polygon queries and intersects-queries. However, there is more to using the geometric relationship between features and between entire layers.\n",
    "\n",
    "Spatial join operations require two input parameters: the predicament, i.e., the geometric condition that needs to be met between two geometries, and the join-type: whether only rows with matching geometries are kept, or all of one input table’s rows, or all records.\n",
    "\n",
    "Geopandas (using shapely to implement geometric relationships) supports a standard set of geometric predicates, that is similar to most GIS analysis tools and applications:\n",
    "\n",
    "- intersects\n",
    "\n",
    "- contains\n",
    "\n",
    "- within\n",
    "\n",
    "- touches\n",
    "\n",
    "- crosses\n",
    "\n",
    "- overlaps\n",
    "\n",
    "Geometric predicaments are expressed as verbs, so they have an intuitive meaning. See the shapely user manual for a detailed description of each geometric predicate. https://shapely.readthedocs.io/en/stable/predicates.html"
   ]
  },
  {
   "cell_type": "markdown",
   "id": "52545ae3-da78-4485-966e-e791e87f7d9c",
   "metadata": {},
   "source": [
    "In terms of the join-type, geopandas implements three different options:\n",
    "\n",
    "- *left*: keep all records of the left data frame, fill with empty values if no match, keep left geometry column\n",
    "\n",
    "- *right*: keep all records of the left data frame, fill with empty values if no match, keep right geometry column\n",
    "\n",
    "- *inner*: keep only records of matching records, keep left geometry column"
   ]
  },
  {
   "cell_type": "markdown",
   "id": "4b4f250d-bf74-4042-bb59-e72a7e645368",
   "metadata": {},
   "source": [
    "###   Load input data"
   ]
  },
  {
   "cell_type": "code",
   "execution_count": null,
   "id": "d29e6171-a623-4bcd-bf43-57470810386a",
   "metadata": {},
   "outputs": [],
   "source": [
    "import geopandas as gpd\n",
    "\n",
    "# Load the point dataset (e.g., addresses) as a GeoDataFrame\n",
    "addresses = gpd.read_file('data/addresses.gpkg')\n",
    "\n",
    "# Load the polygon dataset (e.g., administrative boundaries) as a GeoDataFrame\n",
    "admin_boundaries = gpd.read_file('data/se_100km.shp')\n",
    "\n",
    "# Perform the spatial join\n",
    "joined_data = gpd.sjoin(addresses, admin_boundaries, how='left', op='within')\n",
    "\n",
    "# Print the resulting joined data\n",
    "print(joined_data.head())"
   ]
  },
  {
   "cell_type": "code",
   "execution_count": null,
   "id": "1ce86bd2-47db-4f93-9550-f4809e63b9e3",
   "metadata": {},
   "outputs": [],
   "source": [
    "joined_data.plot()"
   ]
  },
  {
   "cell_type": "code",
   "execution_count": null,
   "id": "fa02b4c0-ba59-454d-ad57-f404094443ce",
   "metadata": {},
   "outputs": [],
   "source": [
    "# save the file to a gpkg\n",
    "joined_data.to_file(\"joined_data.gpkg\")"
   ]
  },
  {
   "cell_type": "code",
   "execution_count": null,
   "id": "48841ca9-42c7-4fec-bd88-e10fb769a1bf",
   "metadata": {},
   "outputs": [],
   "source": [
    "joined_data.head()"
   ]
  },
  {
   "cell_type": "markdown",
   "id": "9151b1f3-82be-4864-9ad9-4d2d2b535607",
   "metadata": {},
   "source": [
    "## Sources\n",
    "\n",
    "This lesson is inspired by the [Programming in Python lessons](http://swcarpentry.github.io/python-novice-inflammation/) from the [Software Carpentry organization](http://software-carpentry.org) and has adapted or reused material from University of Helsinki Automating GIS processis course (https://autogis-site.readthedocs.io/en/latest/course-info/license.html) under a Creative Commons Attribution-ShareAlike 4.0 International licence (https://creativecommons.org/licenses/by-sa/4.0/deed.en)."
   ]
  },
  {
   "cell_type": "code",
   "execution_count": null,
   "id": "0612247c-5e64-442b-b19b-8102e89c7512",
   "metadata": {},
   "outputs": [],
   "source": []
  }
 ],
 "metadata": {
  "kernelspec": {
   "display_name": "Python 3 (ipykernel)",
   "language": "python",
   "name": "python3"
  },
  "language_info": {
   "codemirror_mode": {
    "name": "ipython",
    "version": 3
   },
   "file_extension": ".py",
   "mimetype": "text/x-python",
   "name": "python",
   "nbconvert_exporter": "python",
   "pygments_lexer": "ipython3",
   "version": "3.10.14"
  }
 },
 "nbformat": 4,
 "nbformat_minor": 5
}
