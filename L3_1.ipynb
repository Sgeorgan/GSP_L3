{
 "cells": [
  {
   "cell_type": "markdown",
   "id": "e0af430e-9aab-4923-a422-715e5ab9f72c",
   "metadata": {},
   "source": [
    "### Geocoding in geopandas"
   ]
  },
  {
   "cell_type": "markdown",
   "id": "73aac388-b058-49e2-8dd5-b701a1b7bd9d",
   "metadata": {},
   "source": [
    "Geopandas supports geocoding via a library called ***geopy*** https://geopy.readthedocs.io/en/stable/  , which needs to be installed to use geopandas’ geopandas.tools.geocode() function. geocode() expects a list or pandas.Series of addresses (strings) and returns a GeoDataFrame with resolved addresses and point geometries.\n",
    "\n",
    "Let’s try this out.\n",
    "\n",
    "We will geocode addresses stored in a semicolon-separated text file called addresses.txt. These addresses are higher education universities of Sweden.\n",
    "\n",
    "# NOTE: In case you are running google colab, it is better to export to a geopackage '.gpkg' rather than .shp formats to avoid export errors"
   ]
  },
  {
   "cell_type": "code",
   "execution_count": null,
   "id": "9f2acb2a-2048-4375-a90f-f0dfb868b833",
   "metadata": {},
   "outputs": [],
   "source": [
    "import pathlib\n",
    "NOTEBOOK_PATH = pathlib.Path().resolve()\n",
    "DATA_DIRECTORY = NOTEBOOK_PATH / \"data\""
   ]
  },
  {
   "cell_type": "code",
   "execution_count": null,
   "id": "1690f41f-14bc-4fad-8e45-9b755a9b54ac",
   "metadata": {},
   "outputs": [],
   "source": [
    "import pandas\n",
    "addresses = pandas.read_csv(\n",
    "    DATA_DIRECTORY /  \"addresses.txt\",\n",
    "    sep=\";\"\n",
    ")\n",
    "\n",
    "addresses"
   ]
  },
  {
   "cell_type": "markdown",
   "id": "9a2b7d29-3023-47bd-b6d9-8f06a61d7cf0",
   "metadata": {},
   "source": [
    "We have an id for each row and an address in the addr column.\n",
    "\n"
   ]
  },
  {
   "cell_type": "markdown",
   "id": "87fe025c-24ba-41ab-9f3c-f3e0e7220b81",
   "metadata": {},
   "source": [
    " ### Geocode addresses using Nominatim"
   ]
  },
  {
   "cell_type": "markdown",
   "id": "482d9e21-e2eb-4ebd-b100-3c83e1bec95b",
   "metadata": {},
   "source": [
    "In our example, we will use Nominatim as a geocoding provider. Nominatim (https://nominatim.org/) is a library and service using OpenStreetMap data, and run by the OpenStreetMap Foundation. Geopandas’ geocode() function supports it natively."
   ]
  },
  {
   "cell_type": "code",
   "execution_count": null,
   "id": "258c9783-d0ee-4f03-82d5-cf6a73cff4ea",
   "metadata": {},
   "outputs": [],
   "source": [
    "import geopandas\n",
    "\n",
    "# Trim leading/trailing spaces in column names\n",
    "addresses.columns = addresses.columns.str.strip()\n",
    "\n",
    "# Geocode addresses\n",
    "geocoded_addresses = geopandas.tools.geocode(\n",
    "    addresses[\"addr\"],\n",
    "    provider=\"nominatim\",\n",
    "    user_agent=\"geopython2024\",\n",
    "    timeout=10\n",
    ")\n",
    "\n",
    "\n"
   ]
  },
  {
   "cell_type": "code",
   "execution_count": null,
   "id": "421d5940-a4ee-4703-a69e-c1a52b9ce8e4",
   "metadata": {},
   "outputs": [],
   "source": [
    "geocoded_addresses"
   ]
  },
  {
   "cell_type": "markdown",
   "id": "17b73594-6265-4556-ae77-70c19f847c15",
   "metadata": {},
   "source": [
    "As a result we received a GeoDataFrame that contains a parsed version of our original addresses and a geometry column of shapely.geometry.Points that we can use, for instance, to export the data to a geospatial data format.\n",
    "\n",
    "However, the id column was discarded in the process. To combine the input data set with our result set, we can use pandas’ join operations. It is also important to notice that not all geocoding operations were sucesfull."
   ]
  },
  {
   "cell_type": "markdown",
   "id": "4ceab43e-6f7f-4f40-94df-4f750fea5f5b",
   "metadata": {},
   "source": [
    " ### Join data frames"
   ]
  },
  {
   "cell_type": "markdown",
   "id": "68b92f2c-930a-4ddf-8242-a1d59b5aa8b9",
   "metadata": {},
   "source": [
    "Joining data from two or more data frames or tables is a common task in many (spatial) data analysis workflows.Combining data from different tables based on common key attribute can be done easily in pandas/geopandas using the merge() function.\n",
    "\n",
    "However, sometimes it is useful to join two data frames together based on their index. The data frames have to have the same number of records and share the same index (simply put, they should have the same order of rows).\n",
    "\n",
    "We can use this approach, here, to join information from the original data frame addresses to the geocoded addresses geocoded_addresses, row by row. The join() function, by default, joins two data frames based on their index. This works correctly for our example, as the order of the two data frames is identical."
   ]
  },
  {
   "cell_type": "code",
   "execution_count": null,
   "id": "34637a3f-a730-4c76-b724-887dbf4a7cf4",
   "metadata": {},
   "outputs": [],
   "source": [
    "geocoded_addresses_with_id = geocoded_addresses.join(addresses)\n",
    "geocoded_addresses_with_id"
   ]
  },
  {
   "cell_type": "markdown",
   "id": "57ff191f-f21a-42ff-932c-8cf31aea493e",
   "metadata": {},
   "source": [
    "The output of join() is a new geopandas.GeoDataFrame:"
   ]
  },
  {
   "cell_type": "code",
   "execution_count": null,
   "id": "f04c4a99-bdf1-40e8-bd89-b102cf74cc2e",
   "metadata": {},
   "outputs": [],
   "source": [
    "type(geocoded_addresses_with_id)"
   ]
  },
  {
   "cell_type": "markdown",
   "id": "455b0f26-3614-414b-81e1-0c993ab00091",
   "metadata": {},
   "source": [
    "The new data frame has all original columns plus new columns for the geometry and for a parsed address that can be used to spot-check the results."
   ]
  },
  {
   "cell_type": "code",
   "execution_count": null,
   "id": "6f9ba833-a89e-48aa-a055-943a671efeb6",
   "metadata": {},
   "outputs": [],
   "source": [
    "geocoded_addresses.to_file(DATA_DIRECTORY / \"addresses.gpkg\")"
   ]
  },
  {
   "cell_type": "markdown",
   "id": "7f5339f3-b393-4c00-b7c7-a04888a1d7e5",
   "metadata": {},
   "source": [
    "Take a look at the different types of joins that exist: https://www.geeksforgeeks.org/different-types-of-joins-in-pandas/ "
   ]
  },
  {
   "cell_type": "code",
   "execution_count": null,
   "id": "8c98df0c-90d1-414f-a630-ff45bc81ecf3",
   "metadata": {},
   "outputs": [],
   "source": []
  }
 ],
 "metadata": {
  "kernelspec": {
   "display_name": "GeoPython",
   "language": "python",
   "name": "geopython"
  },
  "language_info": {
   "codemirror_mode": {
    "name": "ipython",
    "version": 3
   },
   "file_extension": ".py",
   "mimetype": "text/x-python",
   "name": "python",
   "nbconvert_exporter": "python",
   "pygments_lexer": "ipython3",
   "version": "3.10.14"
  }
 },
 "nbformat": 4,
 "nbformat_minor": 5
}
