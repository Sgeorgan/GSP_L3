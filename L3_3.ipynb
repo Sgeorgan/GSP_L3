{
 "cells": [
  {
   "cell_type": "markdown",
   "id": "0a0d3e24-f988-4f01-a10d-fb060468aba7",
   "metadata": {},
   "source": [
    "###  Intersect"
   ]
  },
  {
   "cell_type": "markdown",
   "id": "73d52904-7e89-486e-b7c5-f581c5661f9f",
   "metadata": {},
   "source": [
    "Similar to the spatial relationships ***within*** and ***contains*** covered in the previous section, another common geospatial query asks whether two geometries ****intersect*** or ***touch***.\n",
    "\n",
    "Both queries are implemented in shapely:\n",
    "\n",
    "**intersects**(): two objects intersect if the boundary or interior of one object intersect in any way with the boundary or interior of the other object.\n",
    "\n",
    "**touches**(): two objects touch if the objects have at least one point in common, but their interiors do not intersect with any part of the other object.\n",
    "\n",
    "Let’s try these functions out, for instance, using two lines:"
   ]
  },
  {
   "cell_type": "code",
   "execution_count": 1,
   "id": "005a4a46-4ef3-4297-bc69-3c12e3aa18fe",
   "metadata": {},
   "outputs": [],
   "source": [
    "import shapely.geometry\n",
    "\n",
    "line1 = shapely.geometry.LineString([(0, 0), (1, 1)])\n",
    "line2 = shapely.geometry.LineString([(1, 1), (0, 2)])"
   ]
  },
  {
   "cell_type": "code",
   "execution_count": 2,
   "id": "974c62c0-c610-411c-bb67-7a8003094ebf",
   "metadata": {},
   "outputs": [
    {
     "data": {
      "text/plain": [
       "True"
      ]
     },
     "execution_count": 2,
     "metadata": {},
     "output_type": "execute_result"
    }
   ],
   "source": [
    "line1.intersects(line2)"
   ]
  },
  {
   "cell_type": "markdown",
   "id": "25aad68f-b856-4e06-b2f6-8f4d64f5588b",
   "metadata": {},
   "source": [
    "The lines intersect. Do they also touch?"
   ]
  },
  {
   "cell_type": "code",
   "execution_count": 3,
   "id": "37aedb75-9aa4-408a-ae95-796ed5bb95fb",
   "metadata": {},
   "outputs": [
    {
     "data": {
      "text/plain": [
       "True"
      ]
     },
     "execution_count": 3,
     "metadata": {},
     "output_type": "execute_result"
    }
   ],
   "source": [
    "line1.touches(line2)"
   ]
  },
  {
   "cell_type": "markdown",
   "id": "1d17c19e-950e-423f-942e-9261b22148ed",
   "metadata": {},
   "source": [
    "line1 touches line2. Adding them both to a multi-line is a quick way of drawing them inside a Jupyter notebook:"
   ]
  },
  {
   "cell_type": "code",
   "execution_count": 4,
   "id": "546c66cb-9a7c-4b5a-b18c-49a1aaf4df31",
   "metadata": {},
   "outputs": [
    {
     "data": {
      "image/svg+xml": [
       "<svg xmlns=\"http://www.w3.org/2000/svg\" xmlns:xlink=\"http://www.w3.org/1999/xlink\" width=\"100.0\" height=\"100.0\" viewBox=\"-0.08 -0.08 1.1600000000000001 2.16\" preserveAspectRatio=\"xMinYMin meet\"><g transform=\"matrix(1,0,0,-1,0,2.0)\"><g><polyline fill=\"none\" stroke=\"#66cc99\" stroke-width=\"0.0432\" points=\"0.0,0.0 1.0,1.0\" opacity=\"0.8\" /><polyline fill=\"none\" stroke=\"#66cc99\" stroke-width=\"0.0432\" points=\"1.0,1.0 0.0,2.0\" opacity=\"0.8\" /></g></g></svg>"
      ],
      "text/plain": [
       "<MULTILINESTRING ((0 0, 1 1), (1 1, 0 2))>"
      ]
     },
     "execution_count": 4,
     "metadata": {},
     "output_type": "execute_result"
    }
   ],
   "source": [
    "shapely.geometry.MultiLineString([line1, line2])"
   ]
  },
  {
   "cell_type": "markdown",
   "id": "d27a9633-6be3-4a61-bd7b-13b8193e750b",
   "metadata": {},
   "source": [
    "We can see here, that the share the point (1, 1), in which line1 ends, and line2 begins. The two lines do not intersect otherwise (‘in their interior’), so the predicament ’touch()’ - as defined above - is true.\n",
    "\n",
    "If the lines would share some of their interior, the would not be counted as touching. For instance, line1 does not touch line1 (itself), but fulfils all requirements to be counted as intersect()ing with itself:"
   ]
  },
  {
   "cell_type": "code",
   "execution_count": 5,
   "id": "9bd18499-34f9-4810-bc29-b344a2753a8e",
   "metadata": {},
   "outputs": [
    {
     "data": {
      "text/plain": [
       "False"
      ]
     },
     "execution_count": 5,
     "metadata": {},
     "output_type": "execute_result"
    }
   ],
   "source": [
    "line1.touches(line1)"
   ]
  },
  {
   "cell_type": "code",
   "execution_count": 6,
   "id": "c58eba0f-2c77-4b58-9169-7fd3efe95e3e",
   "metadata": {},
   "outputs": [
    {
     "data": {
      "text/plain": [
       "True"
      ]
     },
     "execution_count": 6,
     "metadata": {},
     "output_type": "execute_result"
    }
   ],
   "source": [
    "line1.intersects(line1)"
   ]
  },
  {
   "cell_type": "code",
   "execution_count": null,
   "id": "acc3aa09-5011-40b5-83a6-3895ca795123",
   "metadata": {},
   "outputs": [],
   "source": []
  }
 ],
 "metadata": {
  "kernelspec": {
   "display_name": "Python 3 (ipykernel)",
   "language": "python",
   "name": "python3"
  },
  "language_info": {
   "codemirror_mode": {
    "name": "ipython",
    "version": 3
   },
   "file_extension": ".py",
   "mimetype": "text/x-python",
   "name": "python",
   "nbconvert_exporter": "python",
   "pygments_lexer": "ipython3",
   "version": "3.11.8"
  }
 },
 "nbformat": 4,
 "nbformat_minor": 5
}
