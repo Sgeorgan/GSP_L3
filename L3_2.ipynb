{
 "cells": [
  {
   "cell_type": "markdown",
   "id": "c76f11bd-9f10-453e-bb23-34eb2dda076e",
   "metadata": {},
   "source": [
    " ### Point-in-polygon (PIP) queries"
   ]
  },
  {
   "cell_type": "markdown",
   "id": "a071bda8-b689-4bf2-b3ea-58886a535911",
   "metadata": {},
   "source": [
    "Finding out if a certain point is located inside or outside of an area, or finding out if a line intersects with another line or polygon are fundamental geospatial operations that are often used e.g. to select data based on location. Such spatial queries are one of the typical first steps of the workflow when doing spatial analysis. Performing a spatial join (will be introduced later) between two spatial datasets is one of the most typical applications where Point in Polygon (PIP) query is used."
   ]
  },
  {
   "cell_type": "markdown",
   "id": "a41ee6c8-ae2e-4ec5-8fc1-16dd3516d636",
   "metadata": {},
   "source": [
    "Computationally, detecting if a point is inside a polygon is most commonly done using a specific formula called Ray Casting algorithm. Luckily, we do not need to create such a function ourselves for conducting the Point in Polygon (PIP) query. Instead, we can take advantage of Shapely’s binary predicates that can evaluate the topolocical relationships between geographical objects, such as the PIP as we’re interested here."
   ]
  },
  {
   "cell_type": "markdown",
   "id": "3285d6f5-b18f-4418-80a6-ae0588f8efcf",
   "metadata": {},
   "source": [
    "###  Point-in-polygon queries on shapely geometries"
   ]
  },
  {
   "cell_type": "markdown",
   "id": "5b775d5d-1e0f-495e-b35f-7805d42a5d33",
   "metadata": {},
   "source": [
    "There are basically two ways of conducting PIP in Shapely:\n",
    "\n",
    "using a function called within() that checks if a point is within a polygon\n",
    "\n",
    "using a function called contains() that checks if a polygon contains a point"
   ]
  },
  {
   "cell_type": "markdown",
   "id": "5482d230-fd54-43b6-be87-a3b4feb6e762",
   "metadata": {},
   "source": [
    "Let’s first create a couple of point geometries:"
   ]
  },
  {
   "cell_type": "code",
   "execution_count": null,
   "id": "3b410eec-db65-4b4e-8e30-0a034d56deda",
   "metadata": {},
   "outputs": [],
   "source": [
    "import shapely.geometry\n",
    "point1 = shapely.geometry.Point(24.952242, 60.1696017)\n",
    "point2 = shapely.geometry.Point(24.976567, 60.1612500)"
   ]
  },
  {
   "cell_type": "markdown",
   "id": "a3f0d9b4-f049-4a03-a601-7beed9a6881f",
   "metadata": {},
   "source": [
    "… and a polygon:"
   ]
  },
  {
   "cell_type": "code",
   "execution_count": null,
   "id": "38b75f5e-ac53-460a-b2e7-403d2df8f444",
   "metadata": {},
   "outputs": [],
   "source": [
    "polygon = shapely.geometry.Polygon(\n",
    "    [\n",
    "        (24.950899, 60.169158),\n",
    "        (24.953492, 60.169158),\n",
    "        (24.953510, 60.170104),\n",
    "        (24.950958, 60.169990)\n",
    "    ]\n",
    ")"
   ]
  },
  {
   "cell_type": "code",
   "execution_count": null,
   "id": "1186964d-630a-4b80-b6e7-7406a207e29c",
   "metadata": {},
   "outputs": [],
   "source": [
    "print(point1)\n",
    "print(point2)\n",
    "print(polygon)"
   ]
  },
  {
   "cell_type": "markdown",
   "id": "24d13087-e1be-4a91-b12c-81b0bfb96c80",
   "metadata": {},
   "source": [
    "Let’s check if the points are within() the polygon:"
   ]
  },
  {
   "cell_type": "code",
   "execution_count": null,
   "id": "5b2a68bf-1222-4ec8-8961-b4223f2d1792",
   "metadata": {},
   "outputs": [],
   "source": [
    "point1.within(polygon)"
   ]
  },
  {
   "cell_type": "code",
   "execution_count": null,
   "id": "5be290c2-efcd-44ea-88d6-79b979b20a56",
   "metadata": {},
   "outputs": [],
   "source": [
    "point2.within(polygon)"
   ]
  },
  {
   "cell_type": "markdown",
   "id": "fa60f001-1598-4d42-bb84-ea676a4e5b1f",
   "metadata": {},
   "source": [
    "It seems that the first point is inside the polygon, but the second one is not.\n",
    "\n",
    "We can turn the logic of the look-up around: Rather than check of the point is within the polygon, we can also ask whether the polygon contains() the point:"
   ]
  },
  {
   "cell_type": "code",
   "execution_count": null,
   "id": "574b97c1-c3fb-4d93-acec-d87a6e9b993f",
   "metadata": {},
   "outputs": [],
   "source": [
    "polygon.contains(point1)"
   ]
  },
  {
   "cell_type": "code",
   "execution_count": null,
   "id": "70eff174-417c-4ad0-88e0-3d83c7df908c",
   "metadata": {},
   "outputs": [],
   "source": [
    "polygon.contains(point2)"
   ]
  },
  {
   "cell_type": "markdown",
   "id": "d38fb5b8-7d99-4ce5-858c-55144e14f3cd",
   "metadata": {},
   "source": [
    "The two ways of checking the spatial relationship are complementary and yield equivalent results; contains() is inverse to within(), and vice versa.\n",
    "\n",
    "Then, which one should you use? Well, it depends:\n",
    "\n",
    "if you have many points and just one polygon and you try to find out which one of them is inside the polygon: You might need to iterate over the points and check one at a time if it is within() the polygon.\n",
    "\n",
    "if you have many polygons and just one point and you want to find out which polygon contains the point: You might need to iterate over the polygons until you find a polygon that contains() the point specified"
   ]
  },
  {
   "cell_type": "markdown",
   "id": "9d890b1b-90d7-43ab-acdd-e83c4315ca43",
   "metadata": {},
   "source": [
    " ###  Point-in-polygon queries on geopandas.GeoDataFrames"
   ]
  },
  {
   "cell_type": "markdown",
   "id": "288923e0-6062-4ea0-ac76-a4ae3615200b",
   "metadata": {},
   "source": [
    "In the following practical example we find which of the addresses we obtained in the geocoding section are located within a certain city district of Helsinki.\n",
    "\n",
    "The data set we are using is from Helsinki Region Infoshare, and licensed under a Creative-Commons-Attribution-4.0 license."
   ]
  },
  {
   "cell_type": "code",
   "execution_count": null,
   "id": "bebba1e2-70ce-45c0-8575-b2827e824906",
   "metadata": {},
   "outputs": [],
   "source": [
    "import pathlib\n",
    "NOTEBOOK_PATH = pathlib.Path().resolve()\n",
    "DATA_DIRECTORY = NOTEBOOK_PATH / \"data\""
   ]
  },
  {
   "cell_type": "code",
   "execution_count": null,
   "id": "42b88010-8092-4984-a4d2-a26f9706596f",
   "metadata": {},
   "outputs": [],
   "source": [
    "import geopandas\n",
    "\n",
    "regions = geopandas.read_file(\n",
    "    DATA_DIRECTORY / \"se_100km.shp\"\n",
    ")\n",
    "regions.head()"
   ]
  },
  {
   "cell_type": "code",
   "execution_count": null,
   "id": "4c84e9a0-be70-4dab-bc82-9e7ea559c0f1",
   "metadata": {},
   "outputs": [],
   "source": [
    "regions.plot()"
   ]
  },
  {
   "cell_type": "code",
   "execution_count": null,
   "id": "2243f37f-2e4d-4684-9f32-35d2979c7749",
   "metadata": {},
   "outputs": [],
   "source": [
    "regions = regions[regions.CELLCODE == \"100kmE47N40\"]\n",
    "regions"
   ]
  },
  {
   "cell_type": "code",
   "execution_count": null,
   "id": "e84ca590-6dff-468e-b510-8799405f3605",
   "metadata": {},
   "outputs": [],
   "source": [
    "addresses = geopandas.read_file(DATA_DIRECTORY / \"addresses.gpkg\")"
   ]
  },
  {
   "cell_type": "code",
   "execution_count": null,
   "id": "dead3e9f-6be0-4082-91a1-972f06a891d0",
   "metadata": {},
   "outputs": [],
   "source": [
    "axes = regions.plot(facecolor=\"grey\")\n",
    "regions.plot(ax=axes, facecolor=\"red\")\n",
    "addresses.plot(ax=axes, color=\"blue\", markersize=5)"
   ]
  },
  {
   "cell_type": "markdown",
   "id": "34818093-b66b-4c69-a0d3-f13000fefbd8",
   "metadata": {},
   "source": [
    "Some points are within the ‘Stockholm’ region, but others are not. To find out which are the ones inside the district, we can use a point-in-polygon query, this time on the entire geopandas.GeoDataFrame. Its method within() returns Boolean (True/False) values that indicate whether or not a row’s geometry is contained in the supplied other geometry:"
   ]
  },
  {
   "cell_type": "code",
   "execution_count": null,
   "id": "f651f89c-4070-4324-9d97-17649b86a897",
   "metadata": {},
   "outputs": [],
   "source": [
    "addresses.within(regions.geometry.iloc[0])"
   ]
  },
  {
   "cell_type": "code",
   "execution_count": null,
   "id": "4d0cbd95-0e5e-40ca-a244-b72ff6cf6e91",
   "metadata": {},
   "outputs": [],
   "source": [
    "addresses_in_stockholm = addresses[\n",
    "    addresses.within(regions.geometry.iloc[0])\n",
    "]\n",
    "addresses_in_stockholm"
   ]
  },
  {
   "cell_type": "markdown",
   "id": "993affe7-dc6c-4cda-aff6-bf5600921a03",
   "metadata": {},
   "source": [
    "Finally, let’s plot this list of addresses one more time to visually verify that all of them, indeed, are located within Stockholm:"
   ]
  },
  {
   "cell_type": "code",
   "execution_count": null,
   "id": "01511028-b3d1-4c7a-9bc3-bc48d121afaa",
   "metadata": {},
   "outputs": [],
   "source": [
    "axes = regions.plot(facecolor=\"grey\")\n",
    "regions.plot(ax=axes, facecolor=\"red\")\n",
    "\n",
    "addresses_in_stockholm.plot(\n",
    "    ax=axes,\n",
    "    color=\"gold\",\n",
    "    markersize=5\n",
    ")"
   ]
  },
  {
   "cell_type": "code",
   "execution_count": null,
   "id": "fb4ed038-4402-4a84-940e-cc0fca8bec9b",
   "metadata": {},
   "outputs": [],
   "source": []
  },
  {
   "cell_type": "code",
   "execution_count": null,
   "id": "ccd85fe2-98a7-4e2c-a83d-3f0335021d56",
   "metadata": {},
   "outputs": [],
   "source": []
  }
 ],
 "metadata": {
  "kernelspec": {
   "display_name": "Python 3 (ipykernel)",
   "language": "python",
   "name": "python3"
  },
  "language_info": {
   "codemirror_mode": {
    "name": "ipython",
    "version": 3
   },
   "file_extension": ".py",
   "mimetype": "text/x-python",
   "name": "python",
   "nbconvert_exporter": "python",
   "pygments_lexer": "ipython3",
   "version": "3.11.8"
  }
 },
 "nbformat": 4,
 "nbformat_minor": 5
}
